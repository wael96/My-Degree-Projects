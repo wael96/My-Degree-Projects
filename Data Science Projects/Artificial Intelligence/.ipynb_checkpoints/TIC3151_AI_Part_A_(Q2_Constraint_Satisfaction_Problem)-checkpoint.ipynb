{
  "nbformat": 4,
  "nbformat_minor": 0,
  "metadata": {
    "colab": {
      "name": "TIC3151 AI Part A (Q2-Constraint Satisfaction Problem)",
      "provenance": []
    },
    "kernelspec": {
      "name": "python3",
      "display_name": "Python 3"
    }
  },
  "cells": [
    {
      "cell_type": "code",
      "metadata": {
        "id": "lYH-zn3XHq_-",
        "colab_type": "code",
        "colab": {
          "base_uri": "https://localhost:8080/",
          "height": 195
        },
        "outputId": "0d720745-226a-4124-b0e0-9c2d383b4e29"
      },
      "source": [
        "!pip install python-constraint\n",
        "#import constraint"
      ],
      "execution_count": 1,
      "outputs": [
        {
          "output_type": "stream",
          "text": [
            "Collecting python-constraint\n",
            "  Downloading https://files.pythonhosted.org/packages/37/8b/5f1bc2734ca611943e1d6733ee244238679f6410a10cd45ede55a61a8402/python-constraint-1.4.0.tar.bz2\n",
            "Building wheels for collected packages: python-constraint\n",
            "  Building wheel for python-constraint (setup.py) ... \u001b[?25l\u001b[?25hdone\n",
            "  Created wheel for python-constraint: filename=python_constraint-1.4.0-py2.py3-none-any.whl size=24080 sha256=6304b566672e6ebfc18b979bc334e2827b8ac14a442ccb322e71f1678bd5f070\n",
            "  Stored in directory: /root/.cache/pip/wheels/34/31/15/7b070b25d0a549d20ce2e9fe6d727471c2c61ef904720fd40c\n",
            "Successfully built python-constraint\n",
            "Installing collected packages: python-constraint\n",
            "Successfully installed python-constraint-1.4.0\n"
          ],
          "name": "stdout"
        }
      ]
    },
    {
      "cell_type": "code",
      "metadata": {
        "id": "8oi-TyGDH-iO",
        "colab_type": "code",
        "colab": {}
      },
      "source": [
        "import constraint"
      ],
      "execution_count": 0,
      "outputs": []
    },
    {
      "cell_type": "markdown",
      "metadata": {
        "id": "GCbpCDyVJI_i",
        "colab_type": "text"
      },
      "source": [
        "x = Hotel Star Rating where 1 = 1 star, 2 = 2 star, 3= 3 star, 4 = 4 star , 5 = 5 star.\n",
        "\n",
        "y = Place of Food Served where 1 = Street food, 2 = Normal Restaurant , 3 = Michelin Restaurant\n",
        "\n",
        "z = Number of Tourist Spot where 2 = two tourist spot, 3 = 3 tourist spot and 4 = four tourist spot\n",
        "\n",
        "w = Weight of price based on mode of transportation where 1 = bus , 2 = train , 3 = Cruise"
      ]
    },
    {
      "cell_type": "code",
      "metadata": {
        "id": "lQ4iWZZ5ICbl",
        "colab_type": "code",
        "colab": {}
      },
      "source": [
        "# Domain variable definition\n",
        "\n",
        "problem = constraint.Problem()\n",
        "\n",
        "problem.addVariable('x', [1,2,3,4,5])  \n",
        "problem.addVariable('y', [1,2,3])\n",
        "problem.addVariable('z', [2,3,4])\n",
        "problem.addVariable('w', [1,2,3])"
      ],
      "execution_count": 0,
      "outputs": []
    },
    {
      "cell_type": "code",
      "metadata": {
        "id": "bMgnynJNIHol",
        "colab_type": "code",
        "colab": {
          "base_uri": "https://localhost:8080/",
          "height": 34
        },
        "outputId": "1db8372a-094f-4271-f915-868b4b39467c"
      },
      "source": [
        "# Domain constraint definition\n",
        "total_budget = input(\"Please enter your fixed amount of travel budget\")\n",
        "total_budget = int(total_budget)\n",
        "\n",
        "def our_constraint(x,y,z,w):  \n",
        "    if (100 * x) + (200 * y) + (300 * z) + (500 * w) <= total_budget:\n",
        "        return True\n",
        "\n",
        "problem.addConstraint(our_constraint, ['x','y','z','w'])"
      ],
      "execution_count": 6,
      "outputs": [
        {
          "output_type": "stream",
          "text": [
            "Please enter your fixed amount of travel budget2000\n"
          ],
          "name": "stdout"
        }
      ]
    },
    {
      "cell_type": "code",
      "metadata": {
        "id": "oZ0PgiBXIPXl",
        "colab_type": "code",
        "colab": {
          "base_uri": "https://localhost:8080/",
          "height": 54
        },
        "outputId": "61a6bc63-5309-4059-9607-c75423f90ccc"
      },
      "source": [
        "solutions = problem.getSolutions()\n",
        "\n",
        "# Prettier way to print and see all solutions\n",
        "length = len(solutions)\n",
        "print(\"(x,y,z,w) ∈ {\", end=\"\")  \n",
        "for index, solution in enumerate(solutions):  \n",
        "    if index == length - 1:\n",
        "        print(\"({},{},{},{})\".format(solution['x'], solution['y'],solution['z'],solution['w']), end=\"\")\n",
        "    else:\n",
        "        print(\"({},{},{},{})\".format(solution['x'], solution['y'],solution['z'],solution['w']),end=\"\")\n",
        "print(\"}\")  "
      ],
      "execution_count": 7,
      "outputs": [
        {
          "output_type": "stream",
          "text": [
            "(x,y,z,w) ∈ {(2,1,2,2)(1,1,2,2)(3,3,2,1)(2,3,2,1)(1,3,2,1)(2,2,3,1)(1,2,3,1)(5,2,2,1)(4,2,2,1)(3,2,2,1)(2,2,2,1)(1,2,2,1)(1,1,4,1)(4,1,3,1)(3,1,3,1)(2,1,3,1)(1,1,3,1)(5,1,2,1)(4,1,2,1)(3,1,2,1)(2,1,2,1)(1,1,2,1)}\n"
          ],
          "name": "stdout"
        }
      ]
    },
    {
      "cell_type": "code",
      "metadata": {
        "id": "27qTg5myIfol",
        "colab_type": "code",
        "colab": {
          "base_uri": "https://localhost:8080/",
          "height": 404
        },
        "outputId": "017cae9a-c160-4a83-f52e-6129a43fcedb"
      },
      "source": [
        "solutions"
      ],
      "execution_count": 10,
      "outputs": [
        {
          "output_type": "execute_result",
          "data": {
            "text/plain": [
              "[{'w': 2, 'x': 2, 'y': 1, 'z': 2},\n",
              " {'w': 2, 'x': 1, 'y': 1, 'z': 2},\n",
              " {'w': 1, 'x': 3, 'y': 3, 'z': 2},\n",
              " {'w': 1, 'x': 2, 'y': 3, 'z': 2},\n",
              " {'w': 1, 'x': 1, 'y': 3, 'z': 2},\n",
              " {'w': 1, 'x': 2, 'y': 2, 'z': 3},\n",
              " {'w': 1, 'x': 1, 'y': 2, 'z': 3},\n",
              " {'w': 1, 'x': 5, 'y': 2, 'z': 2},\n",
              " {'w': 1, 'x': 4, 'y': 2, 'z': 2},\n",
              " {'w': 1, 'x': 3, 'y': 2, 'z': 2},\n",
              " {'w': 1, 'x': 2, 'y': 2, 'z': 2},\n",
              " {'w': 1, 'x': 1, 'y': 2, 'z': 2},\n",
              " {'w': 1, 'x': 1, 'y': 1, 'z': 4},\n",
              " {'w': 1, 'x': 4, 'y': 1, 'z': 3},\n",
              " {'w': 1, 'x': 3, 'y': 1, 'z': 3},\n",
              " {'w': 1, 'x': 2, 'y': 1, 'z': 3},\n",
              " {'w': 1, 'x': 1, 'y': 1, 'z': 3},\n",
              " {'w': 1, 'x': 5, 'y': 1, 'z': 2},\n",
              " {'w': 1, 'x': 4, 'y': 1, 'z': 2},\n",
              " {'w': 1, 'x': 3, 'y': 1, 'z': 2},\n",
              " {'w': 1, 'x': 2, 'y': 1, 'z': 2},\n",
              " {'w': 1, 'x': 1, 'y': 1, 'z': 2}]"
            ]
          },
          "metadata": {
            "tags": []
          },
          "execution_count": 10
        }
      ]
    },
    {
      "cell_type": "code",
      "metadata": {
        "id": "H0HyGethI5Dd",
        "colab_type": "code",
        "colab": {
          "base_uri": "https://localhost:8080/",
          "height": 34
        },
        "outputId": "e83d9199-3f41-43fe-d29d-7f4a37a01bb8"
      },
      "source": [
        "print(\"Total number of solution: {}\".format(len(solutions)))  "
      ],
      "execution_count": 11,
      "outputs": [
        {
          "output_type": "stream",
          "text": [
            "Total number of solution: 22\n"
          ],
          "name": "stdout"
        }
      ]
    }
  ]
}