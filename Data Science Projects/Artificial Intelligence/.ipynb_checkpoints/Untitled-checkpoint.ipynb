{
 "cells": [
  {
   "cell_type": "code",
   "execution_count": 1,
   "metadata": {},
   "outputs": [],
   "source": [
    "from random import randint\n",
    "import random"
   ]
  },
  {
   "cell_type": "code",
   "execution_count": 2,
   "metadata": {},
   "outputs": [],
   "source": [
    "def individual(length, min, max):\n",
    "    return [randint(min,max) for x in range(length)]"
   ]
  },
  {
   "cell_type": "code",
   "execution_count": null,
   "metadata": {},
   "outputs": [],
   "source": [
    "amount = input(\"Your total budget: \")\n",
    "amount = int(amount)\n",
    "\n",
    "user_input = input(\"Minimum hotel budget: \")\n",
    "min_hotel_price = int(user_input)\n",
    "user_input = input(\"Maximum hotel budget: \")\n",
    "max_hotel_price = int(user_input)\n",
    "\n",
    "min_food_price = input(\"Minimum food budget: \")\n",
    "min_food_price = int(min_food_price)\n",
    "max_food_price = input(\"Maximum food budget: \")\n",
    "max_food_price = int(max_food_price)\n",
    "\n",
    "min_tour_price = input(\"Minimum tour budget: \")\n",
    "min_tour_price = int(min_tour_price)\n",
    "max_tout_price = input(\"Maximum tour budget: \")\n",
    "max_tour_price = int(max_tour_price)\n",
    "\n",
    "min_transport_price = input(\"Minimum transport budget: \")\n",
    "min_transport_price = int(min_transport_price)\n",
    "max_transport_price = input(\"Maximum transport budget: \")\n",
    "max_transport_price = int(max_transport_price)"
   ]
  },
  {
   "cell_type": "code",
   "execution_count": null,
   "metadata": {},
   "outputs": [],
   "source": [
    "hotel_length = 5\n",
    "food_length = 3\n",
    "tour_length = 3\n",
    "transport_length = 4\n",
    "\n",
    "hotel_solution = individual(hotel_length, min_hotel_price, max_hotel_price)\n",
    "food_solution = individual(food_length, min_food_price, max_food_price)\n",
    "tour_solution = individual(tour_length, min_tour_price, max_tour_price)\n",
    "transport_solution = individual(transport_length, min_transport_price, max_transport_price)\n",
    "\n",
    "print(hotel_solution)\n",
    "print(food_solution)\n",
    "print(tour_solution)\n",
    "print(transport_solution)"
   ]
  },
  {
   "cell_type": "code",
   "execution_count": null,
   "metadata": {},
   "outputs": [],
   "source": []
  }
 ],
 "metadata": {
  "kernelspec": {
   "display_name": "Python 3",
   "language": "python",
   "name": "python3"
  },
  "language_info": {
   "codemirror_mode": {
    "name": "ipython",
    "version": 3
   },
   "file_extension": ".py",
   "mimetype": "text/x-python",
   "name": "python",
   "nbconvert_exporter": "python",
   "pygments_lexer": "ipython3",
   "version": "3.7.3"
  }
 },
 "nbformat": 4,
 "nbformat_minor": 2
}
