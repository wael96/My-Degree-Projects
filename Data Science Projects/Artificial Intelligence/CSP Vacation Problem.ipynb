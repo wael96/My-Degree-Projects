{
 "cells": [
  {
   "cell_type": "code",
   "execution_count": 3,
   "metadata": {
    "collapsed": false
   },
   "outputs": [
    {
     "name": "stdout",
     "output_type": "stream",
     "text": [
      "\u001b[33mDEPRECATION: Python 2.7 will reach the end of its life on January 1st, 2020. Please upgrade your Python as Python 2.7 won't be maintained after that date. A future version of pip will drop support for Python 2.7. More details about Python 2 support in pip, can be found at https://pip.pypa.io/en/latest/development/release-process/#python-2-support\u001b[0m\r\n"
     ]
    },
    {
     "name": "stdout",
     "output_type": "stream",
     "text": [
      "Collecting python-constraint\r\n"
     ]
    },
    {
     "name": "stdout",
     "output_type": "stream",
     "text": [
      "\u001b[33m  WARNING: Retrying (Retry(total=4, connect=None, read=None, redirect=None, status=None)) after connection broken by 'ConnectTimeoutError(<pip._vendor.urllib3.connection.VerifiedHTTPSConnection object at 0x7efc188aead0>, 'Connection to pypi.org timed out. (connect timeout=15)')': /simple/python-constraint/\u001b[0m\r\n"
     ]
    },
    {
     "name": "stdout",
     "output_type": "stream",
     "text": [
      "\u001b[33m  WARNING: Retrying (Retry(total=3, connect=None, read=None, redirect=None, status=None)) after connection broken by 'ConnectTimeoutError(<pip._vendor.urllib3.connection.VerifiedHTTPSConnection object at 0x7efc188aedd0>, 'Connection to pypi.org timed out. (connect timeout=15)')': /simple/python-constraint/\u001b[0m\r\n"
     ]
    },
    {
     "name": "stdout",
     "output_type": "stream",
     "text": [
      "\u001b[33m  WARNING: Retrying (Retry(total=2, connect=None, read=None, redirect=None, status=None)) after connection broken by 'ConnectTimeoutError(<pip._vendor.urllib3.connection.VerifiedHTTPSConnection object at 0x7efc188aecd0>, 'Connection to pypi.org timed out. (connect timeout=15)')': /simple/python-constraint/\u001b[0m\r\n"
     ]
    },
    {
     "name": "stdout",
     "output_type": "stream",
     "text": [
      "\u001b[33m  WARNING: Retrying (Retry(total=1, connect=None, read=None, redirect=None, status=None)) after connection broken by 'ConnectTimeoutError(<pip._vendor.urllib3.connection.VerifiedHTTPSConnection object at 0x7efc188ae7d0>, 'Connection to pypi.org timed out. (connect timeout=15)')': /simple/python-constraint/\u001b[0m\r\n"
     ]
    },
    {
     "name": "stdout",
     "output_type": "stream",
     "text": [
      "\u001b[33m  WARNING: Retrying (Retry(total=0, connect=None, read=None, redirect=None, status=None)) after connection broken by 'ConnectTimeoutError(<pip._vendor.urllib3.connection.VerifiedHTTPSConnection object at 0x7efc188aea90>, 'Connection to pypi.org timed out. (connect timeout=15)')': /simple/python-constraint/\u001b[0m\r\n"
     ]
    },
    {
     "name": "stdout",
     "output_type": "stream",
     "text": [
      "\u001b[31m  ERROR: Could not find a version that satisfies the requirement python-constraint (from versions: none)\u001b[0m\r\n",
      "\u001b[31mERROR: No matching distribution found for python-constraint\u001b[0m\r\n"
     ]
    },
    {
     "ename": "ModuleNotFoundError",
     "evalue": "No module named 'constraint'",
     "output_type": "error",
     "traceback": [
      "\u001b[0;31m---------------------------------------------------------------------------\u001b[0m",
      "\u001b[0;31mModuleNotFoundError\u001b[0m                       Traceback (most recent call last)",
      "\u001b[0;32m<ipython-input-3-26547d55fd9a>\u001b[0m in \u001b[0;36m<module>\u001b[0;34m\u001b[0m\n\u001b[1;32m      2\u001b[0m \u001b[0mget_ipython\u001b[0m\u001b[0;34m(\u001b[0m\u001b[0;34m)\u001b[0m\u001b[0;34m.\u001b[0m\u001b[0msystem\u001b[0m\u001b[0;34m(\u001b[0m\u001b[0;34m'pip install python-constraint'\u001b[0m\u001b[0;34m)\u001b[0m\u001b[0;34m\u001b[0m\u001b[0;34m\u001b[0m\u001b[0m\n\u001b[1;32m      3\u001b[0m \u001b[0;31m# import constraint library\u001b[0m\u001b[0;34m\u001b[0m\u001b[0;34m\u001b[0m\u001b[0;34m\u001b[0m\u001b[0m\n\u001b[0;32m----> 4\u001b[0;31m \u001b[0;32mimport\u001b[0m \u001b[0mconstraint\u001b[0m\u001b[0;34m\u001b[0m\u001b[0;34m\u001b[0m\u001b[0m\n\u001b[0m",
      "\u001b[0;31mModuleNotFoundError\u001b[0m: No module named 'constraint'"
     ]
    }
   ],
   "source": [
    "#install the constraint library\n",
    "!pip install python-constraint\n",
    "# import constraint library\n",
    "import constraint"
   ]
  },
  {
   "cell_type": "markdown",
   "metadata": {
    "collapsed": false
   },
   "source": [
    "Set up Variable and Domain"
   ]
  },
  {
   "cell_type": "code",
   "execution_count": 0,
   "metadata": {
    "collapsed": false
   },
   "outputs": [
   ],
   "source": [
    "hotels = list()\n",
    "hotels.append({\n",
    "    \"name\": \"Cabinn Metro Hotel\",\n",
    "    \"star\": 2\n",
    "})\n",
    "\n",
    "hotels.append({\n",
    "    \"name\": \"Copenhagen Go Hotel\",\n",
    "    \"star\": 4,\n",
    "})\n",
    "\n",
    "hotels.append({\n",
    "    \"name\": \"Generator Copenhagen\",\n",
    "    \"star\": 3,\n",
    "})\n",
    "\n",
    "hotels.append({\n",
    "    \"name\": \"Nobis Hotel Copenhagen\",\n",
    "    \"star\": 5,\n",
    "})\n"
   ]
  },
  {
   "cell_type": "markdown",
   "metadata": {
    "collapsed": false
   },
   "source": [
    "Add Type of Food"
   ]
  },
  {
   "cell_type": "code",
   "execution_count": 0,
   "metadata": {
    "collapsed": false
   },
   "outputs": [
   ],
   "source": [
    "def add_selection(selection, **kwargs):\n",
    "    index = 2 ** len(selection)\n",
    "    selection[index] = kwargs\n",
    "\n",
    "food = dict()\n",
    "\n",
    "\n",
    "add_selection(\n",
    "    food,\n",
    "    type = \"Danish Cheese Cake\",\n",
    "    price = range(20, 40)\n",
    ")\n",
    "\n",
    "add_selection(\n",
    "    food,\n",
    "    type = \"Danish Pasta\",\n",
    "    price = range(10, 50)\n",
    ")\n",
    "\n",
    "add_selection(\n",
    "    food,\n",
    "    type = \"Danish BBQ Chicken\",\n",
    "    price = range(50, 90)\n",
    ")\n"
   ]
  },
  {
   "cell_type": "markdown",
   "metadata": {
    "collapsed": false
   },
   "source": [
    "Add Tourist Spot Selection"
   ]
  },
  {
   "cell_type": "code",
   "execution_count": 0,
   "metadata": {
    "collapsed": false
   },
   "outputs": [
   ],
   "source": [
    "tourist_spots = dict()\n",
    "\n",
    "\n",
    "add_choice(\n",
    "    tourist_spots,\n",
    "    name = \"Tivoli Garden\",\n",
    "    price = 200\n",
    ")\n",
    "\n",
    "add_choice(\n",
    "    tourist_spots,\n",
    "    name = \"Little Mermaid Park\",\n",
    "    price = 80\n",
    ")\n",
    "\n",
    "add_choice(\n",
    "    tourist_spots,\n",
    "    name = \"Amalienbory\",\n",
    "    price = 250\n",
    ")"
   ]
  },
  {
   "cell_type": "markdown",
   "metadata": {
    "collapsed": false
   },
   "source": [
    "Add Transportation"
   ]
  },
  {
   "cell_type": "code",
   "execution_count": 0,
   "metadata": {
    "collapsed": false
   },
   "outputs": [
   ],
   "source": [
    "transportations_mode = dict()\n",
    "\n",
    "add_choice(\n",
    "    transportations_mode,\n",
    "    name = \"Taxi\",\n",
    "    price = range (50,100)\n",
    ")\n",
    "\n",
    "\n",
    "add_choice(\n",
    "    transportations_mode,\n",
    "    name = \"Bus\",\n",
    "    price = range (10,20)\n",
    ")\n",
    "\n",
    "\n",
    "add_choice(\n",
    "    transportationsMode,\n",
    "    name = \"Railway Link\",\n",
    "    price = range (15-30)\n",
    ")"
   ]
  },
  {
   "cell_type": "code",
   "execution_count": 0,
   "metadata": {
    "collapsed": false
   },
   "outputs": [
   ],
   "source": [
    "# Convert variable domain into integer values Method\n",
    "\n",
    "def range_of_choices(choices):\n",
    "    return range(sum(choices.keys()) + 1)\n",
    "\n",
    "\n",
    "\n",
    "hotel_range = range_of_choices(len(hotels))\n",
    "food_type_range = range_of_choices(food)\n",
    "tourist_spot_range = range_of_choices(tourist_spots)\n",
    "transportation_range = range_of_choices(transportations_mode)\n"
   ]
  },
  {
   "cell_type": "code",
   "execution_count": 0,
   "metadata": {
    "collapsed": false
   },
   "outputs": [
   ],
   "source": [
    "#fixed variables\n",
    "days_of_travel = 6\n",
    "travel_budget = 1000.00"
   ]
  },
  {
   "cell_type": "markdown",
   "metadata": {
    "collapsed": false
   },
   "source": [
    "Write Constraint Function"
   ]
  },
  {
   "cell_type": "code",
   "execution_count": 0,
   "metadata": {
    "collapsed": false
   },
   "outputs": [
   ],
   "source": [
    "travelling_problem = constraint.Problem()\n"
   ]
  }
 ],
 "metadata": {
  "kernelspec": {
   "display_name": "Python 3 (system-wide)",
   "language": "python",
   "metadata": {
    "cocalc": {
     "description": "Python 3 programming language",
     "priority": 100,
     "url": "https://www.python.org/"
    }
   },
   "name": "python3"
  },
  "language_info": {
   "codemirror_mode": {
    "name": "ipython",
    "version": 3
   },
   "file_extension": ".py",
   "mimetype": "text/x-python",
   "name": "python",
   "nbconvert_exporter": "python",
   "pygments_lexer": "ipython3",
   "version": "3.6.8"
  }
 },
 "nbformat": 4,
 "nbformat_minor": 0
}